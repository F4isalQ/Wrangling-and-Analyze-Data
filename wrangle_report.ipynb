{
 "cells": [
  {
   "cell_type": "markdown",
   "metadata": {},
   "source": [
    "## Reporting: wragle_report\n"
   ]
  },
  {
   "cell_type": "markdown",
   "metadata": {},
   "source": [
    "### Gathering Data\n",
    "To gather the data, I used 3 different sources:\n",
    "1. The WeRateDogs Twitter archive.\n",
    "\n",
    "2. The tweet image predictions, I downloaded this file programmatically.\n",
    "\n",
    "3. I downloaded the tweets data (based on the tweet_id from the WeRateDogs Twitter archive), saved them to a text file called tweet_json.txt "
   ]
  },
  {
   "cell_type": "markdown",
   "metadata": {},
   "source": [
    "### Assessing Data\n",
    "\n",
    "#### Quality issues:\n",
    "\n",
    "1. Missing values in (in_reply_to_status_id, in_reply_to_user_id, retweeted_status_id, retweeted_status_user_id, retweeted_status_timestamp) columns.\n",
    "\n",
    "\n",
    "2. Name column has invalid values such as (None, the, Bo, a)\n",
    "\n",
    "3. tweet_id is an integer which is a data type issue, we need to convert it to string.\n",
    "\n",
    "4. Row # 516 have rating_denominator = 7, which is inaccurate value\n",
    "\n",
    "5. In image prediction data set the tweet_id is an integer which is a data type issue, we need to convert it to string.\n",
    "\n",
    "6. In image prediction data frame some entries in p1,p2 and p3 columns have lower case and underscore.\n",
    "\n",
    "\n",
    "\n",
    "7. In json-text(extra tweet info) data set the tweet_id is an integer which is a data type issue, we need to convert it to string.\n",
    "\n",
    "\n",
    "\n",
    "8. Handling the mising values in json-text(extra tweet info) data set by droping the columns that contian null or missing values.\n",
    "\n",
    "9. The column source In twitter-archive data frame contians Multiple formats.\n",
    "\n",
    "\n",
    "#### Tidiness issues:\n",
    "\n",
    "1. Meging dog stage columns into a single column.\n",
    "\n",
    "2. twitter-archive data frame and json-text(extra tweet info) data frame it should be in one table.\n",
    "\n",
    "3. There is one variable in two columns which is rating_numerator and rating_denominator, we can reduce it into one column 'rating'"
   ]
  },
  {
   "cell_type": "markdown",
   "metadata": {},
   "source": [
    "### Cleaning Data\n",
    "\n",
    "1. Drop (in_reply_to_status_id, in_reply_to_user_id, retweeted_status_id, retweeted_status_user_id, retweeted_status_timestamp) columns.\n",
    "\n",
    "2. Drop the invalid values such as (None, the, Bo, a) in name column. \n",
    "\n",
    "3. tweet_id is an integer which is a data type issue, we need to convert it to string.\n",
    "\n",
    "4. Row # 516 have rating_denominator = 7, which is inaccurate value\n",
    "\n",
    "5. In image prediction data set the tweet_id is an integer which is a data type issue, we need to convert it to string.\n",
    "\n",
    "6. In image prediction data frame some entries in p1,p2 and p3 columns have lower case and underscore, so we will convert all the values into a lowercase and remove the underscores.\n",
    "\n",
    "7. In json-text(extra tweet info) data set the tweet_id is an integer which is a data type issue, we need to convert it to string.\n",
    "\n",
    "8. Handling the mising values in j_clean data frame by droping the columns that contian null or missing values.\n",
    "\n",
    "9. Extract the user device from the source column using regular expressions and pandas' str.extract method.\n",
    "\n",
    "10. Merging the tweet_clean and j_clean into one table.\n",
    "\n",
    "11. There is one variable in two columns which is rating_numerator and rating_denominator, we will reduce it into one column 'rating'.\n"
   ]
  },
  {
   "cell_type": "code",
   "execution_count": 4,
   "metadata": {},
   "outputs": [
    {
     "data": {
      "text/plain": [
       "0"
      ]
     },
     "execution_count": 4,
     "metadata": {},
     "output_type": "execute_result"
    }
   ],
   "source": [
    "from subprocess import call\n",
    "call(['python', '-m', 'nbconvert', 'wrangle_report.ipynb'])"
   ]
  },
  {
   "cell_type": "code",
   "execution_count": null,
   "metadata": {},
   "outputs": [],
   "source": []
  },
  {
   "cell_type": "code",
   "execution_count": null,
   "metadata": {},
   "outputs": [],
   "source": []
  }
 ],
 "metadata": {
  "kernelspec": {
   "display_name": "Python 3",
   "language": "python",
   "name": "python3"
  },
  "language_info": {
   "codemirror_mode": {
    "name": "ipython",
    "version": 3
   },
   "file_extension": ".py",
   "mimetype": "text/x-python",
   "name": "python",
   "nbconvert_exporter": "python",
   "pygments_lexer": "ipython3",
   "version": "3.6.3"
  }
 },
 "nbformat": 4,
 "nbformat_minor": 2
}
